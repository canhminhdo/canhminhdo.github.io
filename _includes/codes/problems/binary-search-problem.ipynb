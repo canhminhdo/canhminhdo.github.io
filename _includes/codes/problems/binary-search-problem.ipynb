{
 "cells": [
  {
   "cell_type": "code",
   "execution_count": 1,
   "metadata": {},
   "outputs": [
    {
     "name": "stdout",
     "output_type": "stream",
     "text": [
      "[0, 1, 2, 3, 4, 5, 6, 7, 8, 9]\n",
      "5\n"
     ]
    }
   ],
   "source": [
    "# problem 1: find an element in a sorted list\n",
    "arr = list(range(10))\n",
    "def binarySearch(arr, X):\n",
    "    L, R = 0, len(arr) - 1\n",
    "    while L <= R:\n",
    "        mid = L + int((R - L) / 2)\n",
    "        if arr[mid] == X:\n",
    "            return mid\n",
    "        if arr[mid] < X:\n",
    "            L = mid + 1\n",
    "        else:\n",
    "            R = mid - 1\n",
    "    return -1\n",
    "\n",
    "print(arr)\n",
    "print(binarySearch(arr, 5))"
   ]
  },
  {
   "cell_type": "code",
   "execution_count": 2,
   "metadata": {},
   "outputs": [
    {
     "name": "stdout",
     "output_type": "stream",
     "text": [
      "[2, 3, 5, 6, 8, 12]\n",
      "12\n"
     ]
    }
   ],
   "source": [
    "# problem 2: find first element >= X in a sorted list\n",
    "arr = [2, 3, 5, 6, 8, 12]\n",
    "def findElement(arr, X):\n",
    "    L, R = 0, len(arr) - 1\n",
    "    ans = -1\n",
    "    while L <= R:\n",
    "        mid = L + int((R - L) / 2)\n",
    "        if arr[mid] == X:\n",
    "            return X\n",
    "        if arr[mid] > X:\n",
    "            ans = arr[mid]\n",
    "            R = mid - 1\n",
    "        else:\n",
    "            L = mid + 1\n",
    "    return ans\n",
    "\n",
    "print(arr)\n",
    "print(findElement(arr, 10))"
   ]
  },
  {
   "cell_type": "code",
   "execution_count": 3,
   "metadata": {},
   "outputs": [
    {
     "name": "stdout",
     "output_type": "stream",
     "text": [
      "2\n"
     ]
    }
   ],
   "source": [
    "# problem 3: somebody roated a sorted list, find the smallest element\n",
    "arr = [6, 7, 9, 15, 19, 2, 3]\n",
    "def findSmallest(arr):\n",
    "    L, R = 0, len(arr) - 1\n",
    "    while L <= R:\n",
    "        mid = L + int((R - L) / 2)\n",
    "        if arr[L] < arr[R]:\n",
    "            return arr[L]\n",
    "        else:\n",
    "            L = mid\n",
    "print(findSmallest(arr))"
   ]
  },
  {
   "cell_type": "code",
   "execution_count": 4,
   "metadata": {},
   "outputs": [
    {
     "name": "stdout",
     "output_type": "stream",
     "text": [
      "12\n"
     ]
    }
   ],
   "source": [
    "# problem 4: increase and decrease list, find the maximum element\n",
    "arr = [2, 3, 4, 6, 9, 12, 11, 8, 6, 4, 1]\n",
    "def findMaximum(arr):\n",
    "    L, R = 0, len(arr) - 1\n",
    "    ans = -1\n",
    "    while L <= R:\n",
    "        mid = L + int((R - L) / 2)\n",
    "        if arr[mid] > arr[mid - 1]:\n",
    "            ans = arr[mid]\n",
    "            L = mid + 1\n",
    "        else:\n",
    "            R = mid - 1\n",
    "    return ans\n",
    "print(findMaximum(arr))"
   ]
  },
  {
   "cell_type": "code",
   "execution_count": 8,
   "metadata": {},
   "outputs": [
    {
     "data": {
      "text/plain": [
       "(1.4142135614529252, 1.4142135623842478)"
      ]
     },
     "execution_count": 8,
     "metadata": {},
     "output_type": "execute_result"
    }
   ],
   "source": [
    "# problem 3: calculate sqrx(x) with some precision\n",
    "L , R , X, esp = 0, 2, 2, 1e-9\n",
    "while (R - L > esp):\n",
    "    mid = L + (R - L) / 2\n",
    "    if mid * mid < X:\n",
    "        L = mid\n",
    "    else:\n",
    "        R = mid\n",
    "L, R"
   ]
  },
  {
   "cell_type": "code",
   "execution_count": 9,
   "metadata": {},
   "outputs": [
    {
     "data": {
      "text/plain": [
       "1.4142135623730951"
      ]
     },
     "execution_count": 9,
     "metadata": {},
     "output_type": "execute_result"
    }
   ],
   "source": [
    "import math\n",
    "math.sqrt(2)"
   ]
  }
 ],
 "metadata": {
  "kernelspec": {
   "display_name": "Python 3",
   "language": "python",
   "name": "python3"
  },
  "language_info": {
   "codemirror_mode": {
    "name": "ipython",
    "version": 3
   },
   "file_extension": ".py",
   "mimetype": "text/x-python",
   "name": "python",
   "nbconvert_exporter": "python",
   "pygments_lexer": "ipython3",
   "version": "3.7.6"
  }
 },
 "nbformat": 4,
 "nbformat_minor": 4
}
